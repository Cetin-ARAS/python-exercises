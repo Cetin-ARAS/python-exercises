{
 "cells": [
  {
   "cell_type": "code",
   "execution_count": 4,
   "metadata": {},
   "outputs": [
    {
     "name": "stdout",
     "output_type": "stream",
     "text": [
      "===============================\n",
      "victor\n",
      "===============================\n"
     ]
    }
   ],
   "source": [
    "# OOP\n",
    "import os\n",
    "os.system('cls' if os.name == 'nt' else 'clear')\n",
    "\n",
    "print(\"===============================\")\n",
    "# Nesne tabanlı programlama sayesinde programlar daha anlaşılır, düzenli ve bakımı kolay hale gelir. OOP sayesinde, kod tekrar kullanımı ve modüler hale gelir. Bu da programların geliştirilmesini ve bakımını kolaylaştırır. Ayrıca, OOP sayesinde kod paylaşımı ve işbirliği daha kolay hale gelir.\n",
    "\n",
    "# def print_types(data):\n",
    "#     for i in data:\n",
    "#         print(i, type(i))\n",
    "\n",
    "# test = [122, \"victor\" [1,2,3], (1,2,3), {1,2,3}, True, lambda x:x]\n",
    "\n",
    "# print_types(test)\n",
    "\n",
    "#! defining class:\n",
    "\n",
    "# \"class\" keyword for defining \n",
    "# There is a convention among languages that the class name should be capitalized.\n",
    "\n",
    "# class Person:\n",
    "#     name = \"victor\"  # class attrinutes/properties\n",
    "#     age = 33\n",
    "\n",
    "# person1 = Person()  # creating object or instance\n",
    "# person2 = Person()\n",
    "\n",
    "# print(person1.name) # instances inherites class atributes\n",
    "# print(person2.age)\n",
    "\n",
    "# Person.job = \"developer\" \n",
    "# print(person1.job)  # there is connection between classes and insttances\n",
    "\n",
    "# print(person1.name)\n",
    "\n",
    "\n",
    "\n",
    "\n",
    "\n",
    "\n",
    "\n",
    "\n",
    "\n",
    "\n",
    "\n",
    "\n",
    "\n",
    "\n",
    "\n",
    "\n",
    "\n",
    "\n",
    "\n",
    "\n",
    "\n",
    "\n",
    "\n",
    "\n",
    "\n",
    "\n",
    "print(\"===============================\")"
   ]
  }
 ],
 "metadata": {
  "kernelspec": {
   "display_name": "Python 3",
   "language": "python",
   "name": "python3"
  },
  "language_info": {
   "codemirror_mode": {
    "name": "ipython",
    "version": 3
   },
   "file_extension": ".py",
   "mimetype": "text/x-python",
   "name": "python",
   "nbconvert_exporter": "python",
   "pygments_lexer": "ipython3",
   "version": "3.10.1"
  },
  "orig_nbformat": 4,
  "vscode": {
   "interpreter": {
    "hash": "27f6fea6f47ae512550f0b8facdbd035a93e1dd89633f7bf2dd00a2502c71d0d"
   }
  }
 },
 "nbformat": 4,
 "nbformat_minor": 2
}
