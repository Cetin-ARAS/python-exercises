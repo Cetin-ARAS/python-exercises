{
 "cells": [
  {
   "cell_type": "code",
   "execution_count": 18,
   "metadata": {},
   "outputs": [
    {
     "name": "stdout",
     "output_type": "stream",
     "text": [
      "Clarusway, Clarusway, Clarusway,\n",
      "\t Clarusway, Clarusway, Clarusway,\n",
      "\t\tClarusway, Clarusway, Clarusway \n",
      "\n"
     ]
    }
   ],
   "source": [
    "text = \"Clarusway, Clarusway, Clarusway,\\n\\t Clarusway, Clarusway, Clarusway,\\n\\t\\tClarusway, Clarusway, Clarusway \\n\"\n",
    "       \n",
    "\n",
    "print(text)"
   ]
  },
  {
   "cell_type": "code",
   "execution_count": 28,
   "metadata": {},
   "outputs": [
    {
     "name": "stdout",
     "output_type": "stream",
     "text": [
      "Hello! I am a new programmer and love Clarusway.\n"
     ]
    }
   ],
   "source": [
    "text = \"{aşk}! I am a {old} programmer and I {lover} Clarusway.\".format(aşk=\"Hello\",old=\n",
    "\"new\", lover=\"love\")\n",
    "print(text)\n",
    "\n"
   ]
  }
 ],
 "metadata": {
  "kernelspec": {
   "display_name": "Python 3",
   "language": "python",
   "name": "python3"
  },
  "language_info": {
   "codemirror_mode": {
    "name": "ipython",
    "version": 3
   },
   "file_extension": ".py",
   "mimetype": "text/x-python",
   "name": "python",
   "nbconvert_exporter": "python",
   "pygments_lexer": "ipython3",
   "version": "3.10.1"
  },
  "orig_nbformat": 4,
  "vscode": {
   "interpreter": {
    "hash": "27f6fea6f47ae512550f0b8facdbd035a93e1dd89633f7bf2dd00a2502c71d0d"
   }
  }
 },
 "nbformat": 4,
 "nbformat_minor": 2
}
