{
 "cells": [
  {
   "cell_type": "code",
   "execution_count": 9,
   "metadata": {},
   "outputs": [
    {
     "name": "stdout",
     "output_type": "stream",
     "text": [
      "0\n",
      "[2020.0, 1010.0, 673.3333333333334, 404.0, 252.5, 134.66666666666666]\n"
     ]
    }
   ],
   "source": [
    "num_1 = 2020\n",
    "num_2 = [1, 2, 3, 5, 0, 8, 15]\n",
    "rest_list = []\n",
    "\n",
    "for num in num_2:\n",
    "    try:\n",
    "         rest_list.append(num_1/num)\n",
    "    except ZeroDivisionError:\n",
    "        print(num)\n",
    "\n",
    "print(rest_list)    \n",
    "    \n"
   ]
  },
  {
   "cell_type": "code",
   "execution_count": 11,
   "metadata": {},
   "outputs": [
    {
     "name": "stdout",
     "output_type": "stream",
     "text": [
      "This works every time\n",
      "This works every time\n",
      "This works every time\n",
      "This works every time\n",
      "0\n",
      "This works every time\n",
      "This works every time\n",
      "This works every time\n",
      "[2020.0, 1010.0, 673.3333333333334, 404.0, 252.5, 134.66666666666666]\n"
     ]
    }
   ],
   "source": [
    "num_1 = 2020\n",
    "num_2 = [1, 2, 3, 5, 0, 8, 15]\n",
    "rest_list = []\n",
    "\n",
    "for num in num_2:\n",
    "    try:\n",
    "        rest_num = num_1/num\n",
    "    except ZeroDivisionError:\n",
    "        print(num)\n",
    "    else:\n",
    "        rest_list.append(rest_num)\n",
    "    finally:\n",
    "        print('This works every time')\n",
    "\n",
    "print(rest_list)    \n",
    "    "
   ]
  },
  {
   "cell_type": "code",
   "execution_count": null,
   "metadata": {},
   "outputs": [],
   "source": []
  }
 ],
 "metadata": {
  "kernelspec": {
   "display_name": "Python 3",
   "language": "python",
   "name": "python3"
  },
  "language_info": {
   "codemirror_mode": {
    "name": "ipython",
    "version": 3
   },
   "file_extension": ".py",
   "mimetype": "text/x-python",
   "name": "python",
   "nbconvert_exporter": "python",
   "pygments_lexer": "ipython3",
   "version": "3.10.1"
  },
  "orig_nbformat": 4,
  "vscode": {
   "interpreter": {
    "hash": "27f6fea6f47ae512550f0b8facdbd035a93e1dd89633f7bf2dd00a2502c71d0d"
   }
  }
 },
 "nbformat": 4,
 "nbformat_minor": 2
}
